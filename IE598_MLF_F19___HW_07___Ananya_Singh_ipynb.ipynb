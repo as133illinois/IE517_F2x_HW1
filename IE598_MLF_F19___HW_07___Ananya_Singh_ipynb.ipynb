{
  "nbformat": 4,
  "nbformat_minor": 0,
  "metadata": {
    "colab": {
      "provenance": [],
      "collapsed_sections": [
        "ys2hr-TCfSUE",
        "DAB7Wl4LkREo",
        "gdgf18IikheG",
        "Onn76SNGEq_P"
      ]
    },
    "kernelspec": {
      "name": "python3",
      "display_name": "Python 3"
    },
    "language_info": {
      "name": "python"
    }
  },
  "cells": [
    {
      "cell_type": "markdown",
      "source": [
        "#Import Libraries"
      ],
      "metadata": {
        "id": "ys2hr-TCfSUE"
      }
    },
    {
      "cell_type": "code",
      "execution_count": null,
      "metadata": {
        "id": "_LAHeoNlfN7Q"
      },
      "outputs": [],
      "source": [
        "import numpy as np\n",
        "import pandas as pd\n",
        "from sklearn.metrics import accuracy_score\n",
        "from sklearn import tree"
      ]
    },
    {
      "cell_type": "code",
      "source": [
        "from sklearn.model_selection import train_test_split\n",
        "import matplotlib.pyplot as plt\n",
        "from sklearn.neighbors import KNeighborsClassifier\n",
        "from sklearn.ensemble import RandomForestClassifier\n",
        "from sklearn.ensemble import RandomForestRegressor\n",
        "from sklearn.model_selection import StratifiedKFold,cross_validate, GridSearchCV\n"
      ],
      "metadata": {
        "id": "n9qhXquwfgAi"
      },
      "execution_count": null,
      "outputs": []
    },
    {
      "cell_type": "markdown",
      "source": [
        "#Loading dataset"
      ],
      "metadata": {
        "id": "DAB7Wl4LkREo"
      }
    },
    {
      "cell_type": "code",
      "source": [
        "data = pd.read_csv(\"/content/ccdefault (1).csv\", index_col ='ID')\n",
        "X = data.drop(\"DEFAULT\", axis = 1)\n",
        "y = data[\"DEFAULT\"]"
      ],
      "metadata": {
        "id": "Jiss1IkAjpxj"
      },
      "execution_count": null,
      "outputs": []
    },
    {
      "cell_type": "markdown",
      "source": [
        "#RANDOM FOREST"
      ],
      "metadata": {
        "id": "gdgf18IikheG"
      }
    },
    {
      "cell_type": "code",
      "source": [
        "hyperparameters = {'n_estimators' : [10, 20, 30, 40, 50, 80, 100]}\n",
        "clf = RandomForestClassifier()\n",
        "grid_search = GridSearchCV(clf, hyperparameters, cv =10, scoring = 'accuracy', return_train_score=True)\n",
        "grid_search.fit(X, y)\n"
      ],
      "metadata": {
        "colab": {
          "base_uri": "https://localhost:8080/",
          "height": 116
        },
        "id": "G1otTgDLkgYq",
        "outputId": "cba4c44e-f025-43f8-bcf7-06a069f8c634"
      },
      "execution_count": null,
      "outputs": [
        {
          "output_type": "execute_result",
          "data": {
            "text/plain": [
              "GridSearchCV(cv=10, estimator=RandomForestClassifier(),\n",
              "             param_grid={'n_estimators': [10, 20, 30, 40, 50, 80, 100]},\n",
              "             return_train_score=True, scoring='accuracy')"
            ],
            "text/html": [
              "<style>#sk-container-id-3 {color: black;background-color: white;}#sk-container-id-3 pre{padding: 0;}#sk-container-id-3 div.sk-toggleable {background-color: white;}#sk-container-id-3 label.sk-toggleable__label {cursor: pointer;display: block;width: 100%;margin-bottom: 0;padding: 0.3em;box-sizing: border-box;text-align: center;}#sk-container-id-3 label.sk-toggleable__label-arrow:before {content: \"▸\";float: left;margin-right: 0.25em;color: #696969;}#sk-container-id-3 label.sk-toggleable__label-arrow:hover:before {color: black;}#sk-container-id-3 div.sk-estimator:hover label.sk-toggleable__label-arrow:before {color: black;}#sk-container-id-3 div.sk-toggleable__content {max-height: 0;max-width: 0;overflow: hidden;text-align: left;background-color: #f0f8ff;}#sk-container-id-3 div.sk-toggleable__content pre {margin: 0.2em;color: black;border-radius: 0.25em;background-color: #f0f8ff;}#sk-container-id-3 input.sk-toggleable__control:checked~div.sk-toggleable__content {max-height: 200px;max-width: 100%;overflow: auto;}#sk-container-id-3 input.sk-toggleable__control:checked~label.sk-toggleable__label-arrow:before {content: \"▾\";}#sk-container-id-3 div.sk-estimator input.sk-toggleable__control:checked~label.sk-toggleable__label {background-color: #d4ebff;}#sk-container-id-3 div.sk-label input.sk-toggleable__control:checked~label.sk-toggleable__label {background-color: #d4ebff;}#sk-container-id-3 input.sk-hidden--visually {border: 0;clip: rect(1px 1px 1px 1px);clip: rect(1px, 1px, 1px, 1px);height: 1px;margin: -1px;overflow: hidden;padding: 0;position: absolute;width: 1px;}#sk-container-id-3 div.sk-estimator {font-family: monospace;background-color: #f0f8ff;border: 1px dotted black;border-radius: 0.25em;box-sizing: border-box;margin-bottom: 0.5em;}#sk-container-id-3 div.sk-estimator:hover {background-color: #d4ebff;}#sk-container-id-3 div.sk-parallel-item::after {content: \"\";width: 100%;border-bottom: 1px solid gray;flex-grow: 1;}#sk-container-id-3 div.sk-label:hover label.sk-toggleable__label {background-color: #d4ebff;}#sk-container-id-3 div.sk-serial::before {content: \"\";position: absolute;border-left: 1px solid gray;box-sizing: border-box;top: 0;bottom: 0;left: 50%;z-index: 0;}#sk-container-id-3 div.sk-serial {display: flex;flex-direction: column;align-items: center;background-color: white;padding-right: 0.2em;padding-left: 0.2em;position: relative;}#sk-container-id-3 div.sk-item {position: relative;z-index: 1;}#sk-container-id-3 div.sk-parallel {display: flex;align-items: stretch;justify-content: center;background-color: white;position: relative;}#sk-container-id-3 div.sk-item::before, #sk-container-id-3 div.sk-parallel-item::before {content: \"\";position: absolute;border-left: 1px solid gray;box-sizing: border-box;top: 0;bottom: 0;left: 50%;z-index: -1;}#sk-container-id-3 div.sk-parallel-item {display: flex;flex-direction: column;z-index: 1;position: relative;background-color: white;}#sk-container-id-3 div.sk-parallel-item:first-child::after {align-self: flex-end;width: 50%;}#sk-container-id-3 div.sk-parallel-item:last-child::after {align-self: flex-start;width: 50%;}#sk-container-id-3 div.sk-parallel-item:only-child::after {width: 0;}#sk-container-id-3 div.sk-dashed-wrapped {border: 1px dashed gray;margin: 0 0.4em 0.5em 0.4em;box-sizing: border-box;padding-bottom: 0.4em;background-color: white;}#sk-container-id-3 div.sk-label label {font-family: monospace;font-weight: bold;display: inline-block;line-height: 1.2em;}#sk-container-id-3 div.sk-label-container {text-align: center;}#sk-container-id-3 div.sk-container {/* jupyter's `normalize.less` sets `[hidden] { display: none; }` but bootstrap.min.css set `[hidden] { display: none !important; }` so we also need the `!important` here to be able to override the default hidden behavior on the sphinx rendered scikit-learn.org. See: https://github.com/scikit-learn/scikit-learn/issues/21755 */display: inline-block !important;position: relative;}#sk-container-id-3 div.sk-text-repr-fallback {display: none;}</style><div id=\"sk-container-id-3\" class=\"sk-top-container\"><div class=\"sk-text-repr-fallback\"><pre>GridSearchCV(cv=10, estimator=RandomForestClassifier(),\n",
              "             param_grid={&#x27;n_estimators&#x27;: [10, 20, 30, 40, 50, 80, 100]},\n",
              "             return_train_score=True, scoring=&#x27;accuracy&#x27;)</pre><b>In a Jupyter environment, please rerun this cell to show the HTML representation or trust the notebook. <br />On GitHub, the HTML representation is unable to render, please try loading this page with nbviewer.org.</b></div><div class=\"sk-container\" hidden><div class=\"sk-item sk-dashed-wrapped\"><div class=\"sk-label-container\"><div class=\"sk-label sk-toggleable\"><input class=\"sk-toggleable__control sk-hidden--visually\" id=\"sk-estimator-id-7\" type=\"checkbox\" ><label for=\"sk-estimator-id-7\" class=\"sk-toggleable__label sk-toggleable__label-arrow\">GridSearchCV</label><div class=\"sk-toggleable__content\"><pre>GridSearchCV(cv=10, estimator=RandomForestClassifier(),\n",
              "             param_grid={&#x27;n_estimators&#x27;: [10, 20, 30, 40, 50, 80, 100]},\n",
              "             return_train_score=True, scoring=&#x27;accuracy&#x27;)</pre></div></div></div><div class=\"sk-parallel\"><div class=\"sk-parallel-item\"><div class=\"sk-item\"><div class=\"sk-label-container\"><div class=\"sk-label sk-toggleable\"><input class=\"sk-toggleable__control sk-hidden--visually\" id=\"sk-estimator-id-8\" type=\"checkbox\" ><label for=\"sk-estimator-id-8\" class=\"sk-toggleable__label sk-toggleable__label-arrow\">estimator: RandomForestClassifier</label><div class=\"sk-toggleable__content\"><pre>RandomForestClassifier()</pre></div></div></div><div class=\"sk-serial\"><div class=\"sk-item\"><div class=\"sk-estimator sk-toggleable\"><input class=\"sk-toggleable__control sk-hidden--visually\" id=\"sk-estimator-id-9\" type=\"checkbox\" ><label for=\"sk-estimator-id-9\" class=\"sk-toggleable__label sk-toggleable__label-arrow\">RandomForestClassifier</label><div class=\"sk-toggleable__content\"><pre>RandomForestClassifier()</pre></div></div></div></div></div></div></div></div></div></div>"
            ]
          },
          "metadata": {},
          "execution_count": 9
        }
      ]
    },
    {
      "cell_type": "code",
      "source": [
        "res = grid_search.cv_results_\n",
        "output = pd.DataFrame({'Number of Parameters' : res['params'], 'Training Accuracy': res['mean_train_score'], 'Testing Accuracy': res['mean_test_score'], 'Time Consumption' : res['mean_score_time']})\n",
        "display(output)"
      ],
      "metadata": {
        "colab": {
          "base_uri": "https://localhost:8080/",
          "height": 269
        },
        "id": "LZ3Jf7ELnf1z",
        "outputId": "270bf33c-e1fe-4f8f-af24-0c91afc84d7d"
      },
      "execution_count": null,
      "outputs": [
        {
          "output_type": "display_data",
          "data": {
            "text/plain": [
              "    Number of Parameters  Training Accuracy  Testing Accuracy  \\\n",
              "0   {'n_estimators': 10}           0.979741          0.805800   \n",
              "1   {'n_estimators': 20}           0.992696          0.811667   \n",
              "2   {'n_estimators': 30}           0.996644          0.813700   \n",
              "3   {'n_estimators': 40}           0.998159          0.815000   \n",
              "4   {'n_estimators': 50}           0.998789          0.814967   \n",
              "5   {'n_estimators': 80}           0.999256          0.815633   \n",
              "6  {'n_estimators': 100}           0.999322          0.816067   \n",
              "\n",
              "   Time Consumption  \n",
              "0          0.012303  \n",
              "1          0.021051  \n",
              "2          0.029762  \n",
              "3          0.043726  \n",
              "4          0.045256  \n",
              "5          0.071289  \n",
              "6          0.093121  "
            ],
            "text/html": [
              "\n",
              "  <div id=\"df-de67b4a8-8edb-4f9c-a38f-9170ab070c08\">\n",
              "    <div class=\"colab-df-container\">\n",
              "      <div>\n",
              "<style scoped>\n",
              "    .dataframe tbody tr th:only-of-type {\n",
              "        vertical-align: middle;\n",
              "    }\n",
              "\n",
              "    .dataframe tbody tr th {\n",
              "        vertical-align: top;\n",
              "    }\n",
              "\n",
              "    .dataframe thead th {\n",
              "        text-align: right;\n",
              "    }\n",
              "</style>\n",
              "<table border=\"1\" class=\"dataframe\">\n",
              "  <thead>\n",
              "    <tr style=\"text-align: right;\">\n",
              "      <th></th>\n",
              "      <th>Number of Parameters</th>\n",
              "      <th>Training Accuracy</th>\n",
              "      <th>Testing Accuracy</th>\n",
              "      <th>Time Consumption</th>\n",
              "    </tr>\n",
              "  </thead>\n",
              "  <tbody>\n",
              "    <tr>\n",
              "      <th>0</th>\n",
              "      <td>{'n_estimators': 10}</td>\n",
              "      <td>0.979741</td>\n",
              "      <td>0.805800</td>\n",
              "      <td>0.012303</td>\n",
              "    </tr>\n",
              "    <tr>\n",
              "      <th>1</th>\n",
              "      <td>{'n_estimators': 20}</td>\n",
              "      <td>0.992696</td>\n",
              "      <td>0.811667</td>\n",
              "      <td>0.021051</td>\n",
              "    </tr>\n",
              "    <tr>\n",
              "      <th>2</th>\n",
              "      <td>{'n_estimators': 30}</td>\n",
              "      <td>0.996644</td>\n",
              "      <td>0.813700</td>\n",
              "      <td>0.029762</td>\n",
              "    </tr>\n",
              "    <tr>\n",
              "      <th>3</th>\n",
              "      <td>{'n_estimators': 40}</td>\n",
              "      <td>0.998159</td>\n",
              "      <td>0.815000</td>\n",
              "      <td>0.043726</td>\n",
              "    </tr>\n",
              "    <tr>\n",
              "      <th>4</th>\n",
              "      <td>{'n_estimators': 50}</td>\n",
              "      <td>0.998789</td>\n",
              "      <td>0.814967</td>\n",
              "      <td>0.045256</td>\n",
              "    </tr>\n",
              "    <tr>\n",
              "      <th>5</th>\n",
              "      <td>{'n_estimators': 80}</td>\n",
              "      <td>0.999256</td>\n",
              "      <td>0.815633</td>\n",
              "      <td>0.071289</td>\n",
              "    </tr>\n",
              "    <tr>\n",
              "      <th>6</th>\n",
              "      <td>{'n_estimators': 100}</td>\n",
              "      <td>0.999322</td>\n",
              "      <td>0.816067</td>\n",
              "      <td>0.093121</td>\n",
              "    </tr>\n",
              "  </tbody>\n",
              "</table>\n",
              "</div>\n",
              "      <button class=\"colab-df-convert\" onclick=\"convertToInteractive('df-de67b4a8-8edb-4f9c-a38f-9170ab070c08')\"\n",
              "              title=\"Convert this dataframe to an interactive table.\"\n",
              "              style=\"display:none;\">\n",
              "        \n",
              "  <svg xmlns=\"http://www.w3.org/2000/svg\" height=\"24px\"viewBox=\"0 0 24 24\"\n",
              "       width=\"24px\">\n",
              "    <path d=\"M0 0h24v24H0V0z\" fill=\"none\"/>\n",
              "    <path d=\"M18.56 5.44l.94 2.06.94-2.06 2.06-.94-2.06-.94-.94-2.06-.94 2.06-2.06.94zm-11 1L8.5 8.5l.94-2.06 2.06-.94-2.06-.94L8.5 2.5l-.94 2.06-2.06.94zm10 10l.94 2.06.94-2.06 2.06-.94-2.06-.94-.94-2.06-.94 2.06-2.06.94z\"/><path d=\"M17.41 7.96l-1.37-1.37c-.4-.4-.92-.59-1.43-.59-.52 0-1.04.2-1.43.59L10.3 9.45l-7.72 7.72c-.78.78-.78 2.05 0 2.83L4 21.41c.39.39.9.59 1.41.59.51 0 1.02-.2 1.41-.59l7.78-7.78 2.81-2.81c.8-.78.8-2.07 0-2.86zM5.41 20L4 18.59l7.72-7.72 1.47 1.35L5.41 20z\"/>\n",
              "  </svg>\n",
              "      </button>\n",
              "      \n",
              "  <style>\n",
              "    .colab-df-container {\n",
              "      display:flex;\n",
              "      flex-wrap:wrap;\n",
              "      gap: 12px;\n",
              "    }\n",
              "\n",
              "    .colab-df-convert {\n",
              "      background-color: #E8F0FE;\n",
              "      border: none;\n",
              "      border-radius: 50%;\n",
              "      cursor: pointer;\n",
              "      display: none;\n",
              "      fill: #1967D2;\n",
              "      height: 32px;\n",
              "      padding: 0 0 0 0;\n",
              "      width: 32px;\n",
              "    }\n",
              "\n",
              "    .colab-df-convert:hover {\n",
              "      background-color: #E2EBFA;\n",
              "      box-shadow: 0px 1px 2px rgba(60, 64, 67, 0.3), 0px 1px 3px 1px rgba(60, 64, 67, 0.15);\n",
              "      fill: #174EA6;\n",
              "    }\n",
              "\n",
              "    [theme=dark] .colab-df-convert {\n",
              "      background-color: #3B4455;\n",
              "      fill: #D2E3FC;\n",
              "    }\n",
              "\n",
              "    [theme=dark] .colab-df-convert:hover {\n",
              "      background-color: #434B5C;\n",
              "      box-shadow: 0px 1px 3px 1px rgba(0, 0, 0, 0.15);\n",
              "      filter: drop-shadow(0px 1px 2px rgba(0, 0, 0, 0.3));\n",
              "      fill: #FFFFFF;\n",
              "    }\n",
              "  </style>\n",
              "\n",
              "      <script>\n",
              "        const buttonEl =\n",
              "          document.querySelector('#df-de67b4a8-8edb-4f9c-a38f-9170ab070c08 button.colab-df-convert');\n",
              "        buttonEl.style.display =\n",
              "          google.colab.kernel.accessAllowed ? 'block' : 'none';\n",
              "\n",
              "        async function convertToInteractive(key) {\n",
              "          const element = document.querySelector('#df-de67b4a8-8edb-4f9c-a38f-9170ab070c08');\n",
              "          const dataTable =\n",
              "            await google.colab.kernel.invokeFunction('convertToInteractive',\n",
              "                                                     [key], {});\n",
              "          if (!dataTable) return;\n",
              "\n",
              "          const docLinkHtml = 'Like what you see? Visit the ' +\n",
              "            '<a target=\"_blank\" href=https://colab.research.google.com/notebooks/data_table.ipynb>data table notebook</a>'\n",
              "            + ' to learn more about interactive tables.';\n",
              "          element.innerHTML = '';\n",
              "          dataTable['output_type'] = 'display_data';\n",
              "          await google.colab.output.renderOutput(dataTable, element);\n",
              "          const docLink = document.createElement('div');\n",
              "          docLink.innerHTML = docLinkHtml;\n",
              "          element.appendChild(docLink);\n",
              "        }\n",
              "      </script>\n",
              "    </div>\n",
              "  </div>\n",
              "  "
            ]
          },
          "metadata": {}
        }
      ]
    },
    {
      "cell_type": "markdown",
      "source": [
        "a) What is the relationship between n_estimators, in-sample CV accuracy and computation time?\n",
        "\n",
        "As the number of estimators increase in-sample accuracy increases whereas computation time decreases."
      ],
      "metadata": {
        "id": "3T0qEkTs7bdM"
      }
    },
    {
      "cell_type": "code",
      "source": [
        "res"
      ],
      "metadata": {
        "id": "zyvfkR8By3wI",
        "outputId": "d58fb76d-4d78-417e-a318-db625fad12d3",
        "colab": {
          "base_uri": "https://localhost:8080/"
        }
      },
      "execution_count": null,
      "outputs": [
        {
          "output_type": "execute_result",
          "data": {
            "text/plain": [
              "{'mean_fit_time': array([0.8216054 , 1.6476176 , 2.48786774, 3.31120527, 4.13537807,\n",
              "        6.71894677, 8.57908077]),\n",
              " 'std_fit_time': array([0.06350643, 0.12299804, 0.15915184, 0.20548215, 0.19016525,\n",
              "        0.22260714, 0.36418236]),\n",
              " 'mean_score_time': array([0.01230297, 0.0210511 , 0.0297621 , 0.04372628, 0.04525585,\n",
              "        0.07128906, 0.09312084]),\n",
              " 'std_score_time': array([0.00250375, 0.00215001, 0.00323955, 0.01852927, 0.00378395,\n",
              "        0.00663254, 0.00882097]),\n",
              " 'param_n_estimators': masked_array(data=[10, 20, 30, 40, 50, 80, 100],\n",
              "              mask=[False, False, False, False, False, False, False],\n",
              "        fill_value='?',\n",
              "             dtype=object),\n",
              " 'params': [{'n_estimators': 10},\n",
              "  {'n_estimators': 20},\n",
              "  {'n_estimators': 30},\n",
              "  {'n_estimators': 40},\n",
              "  {'n_estimators': 50},\n",
              "  {'n_estimators': 80},\n",
              "  {'n_estimators': 100}],\n",
              " 'split0_test_score': array([0.8       , 0.798     , 0.80666667, 0.80666667, 0.80366667,\n",
              "        0.80566667, 0.80833333]),\n",
              " 'split1_test_score': array([0.79066667, 0.79533333, 0.80733333, 0.80533333, 0.80766667,\n",
              "        0.81      , 0.80733333]),\n",
              " 'split2_test_score': array([0.79833333, 0.801     , 0.806     , 0.805     , 0.80533333,\n",
              "        0.80633333, 0.81033333]),\n",
              " 'split3_test_score': array([0.79766667, 0.805     , 0.80166667, 0.80033333, 0.804     ,\n",
              "        0.80166667, 0.80133333]),\n",
              " 'split4_test_score': array([0.80433333, 0.81733333, 0.809     , 0.81533333, 0.815     ,\n",
              "        0.814     , 0.812     ]),\n",
              " 'split5_test_score': array([0.81433333, 0.822     , 0.81966667, 0.81866667, 0.82066667,\n",
              "        0.82166667, 0.81866667]),\n",
              " 'split6_test_score': array([0.81833333, 0.82566667, 0.82666667, 0.83366667, 0.83033333,\n",
              "        0.83433333, 0.836     ]),\n",
              " 'split7_test_score': array([0.81666667, 0.821     , 0.81966667, 0.82733333, 0.82533333,\n",
              "        0.826     , 0.82466667]),\n",
              " 'split8_test_score': array([0.81      , 0.81766667, 0.82533333, 0.82066667, 0.82233333,\n",
              "        0.81966667, 0.82133333]),\n",
              " 'split9_test_score': array([0.80766667, 0.81366667, 0.815     , 0.817     , 0.81533333,\n",
              "        0.817     , 0.82066667]),\n",
              " 'mean_test_score': array([0.8058    , 0.81166667, 0.8137    , 0.815     , 0.81496667,\n",
              "        0.81563333, 0.81606667]),\n",
              " 'std_test_score': array([0.0086938 , 0.01036232, 0.00832193, 0.01014013, 0.00908044,\n",
              "        0.00962803, 0.00964112]),\n",
              " 'rank_test_score': array([7, 6, 5, 3, 4, 2, 1], dtype=int32),\n",
              " 'split0_train_score': array([0.97925926, 0.99307407, 0.99685185, 0.99818519, 0.99881481,\n",
              "        0.99914815, 0.99925926]),\n",
              " 'split1_train_score': array([0.9797037 , 0.99307407, 0.9967037 , 0.99833333, 0.99877778,\n",
              "        0.99925926, 0.99933333]),\n",
              " 'split2_train_score': array([0.98014815, 0.99277778, 0.99707407, 0.99818519, 0.999     ,\n",
              "        0.99944444, 0.99955556]),\n",
              " 'split3_train_score': array([0.98096296, 0.99274074, 0.99640741, 0.99833333, 0.99885185,\n",
              "        0.9992963 , 0.99937037]),\n",
              " 'split4_train_score': array([0.98022222, 0.99274074, 0.99692593, 0.99785185, 0.99855556,\n",
              "        0.99925926, 0.99918519]),\n",
              " 'split5_train_score': array([0.97914815, 0.99225926, 0.99692593, 0.99833333, 0.99866667,\n",
              "        0.99918519, 0.99925926]),\n",
              " 'split6_train_score': array([0.97925926, 0.99314815, 0.99681481, 0.99774074, 0.99896296,\n",
              "        0.99922222, 0.99925926]),\n",
              " 'split7_train_score': array([0.97922222, 0.99337037, 0.99637037, 0.99811111, 0.99862963,\n",
              "        0.99925926, 0.9992963 ]),\n",
              " 'split8_train_score': array([0.97840741, 0.99203704, 0.99607407, 0.99818519, 0.99885185,\n",
              "        0.99914815, 0.99933333]),\n",
              " 'split9_train_score': array([0.98107407, 0.99174074, 0.9962963 , 0.99833333, 0.99877778,\n",
              "        0.99933333, 0.99937037]),\n",
              " 'mean_train_score': array([0.97974074, 0.9926963 , 0.99664444, 0.99815926, 0.99878889,\n",
              "        0.99925556, 0.99932222]),\n",
              " 'std_train_score': array([8.08222490e-04, 4.99327394e-04, 3.15663344e-04, 1.98796102e-04,\n",
              "        1.33590287e-04, 8.51851852e-05, 9.52219269e-05])}"
            ]
          },
          "metadata": {},
          "execution_count": 26
        }
      ]
    },
    {
      "cell_type": "code",
      "source": [
        "best_number_of_parameters = grid_search.best_params_\n",
        "print(best_number_of_parameters)"
      ],
      "metadata": {
        "colab": {
          "base_uri": "https://localhost:8080/"
        },
        "id": "oBIeqnJyrOH6",
        "outputId": "1a57f530-0968-427f-dccb-8956a6caa8f6"
      },
      "execution_count": null,
      "outputs": [
        {
          "output_type": "stream",
          "name": "stdout",
          "text": [
            "{'n_estimators': 100}\n"
          ]
        }
      ]
    },
    {
      "cell_type": "markdown",
      "source": [
        "b) What is the optimal number of estimators for your forest? \n",
        "\n",
        "As per the results the best number of estimator is 100."
      ],
      "metadata": {
        "id": "bAryK_n7AdDJ"
      }
    },
    {
      "cell_type": "code",
      "source": [
        "n_est = list(grid_search.best_params_.values())[0]\n",
        "reg = RandomForestRegressor(n_estimators = n_est)\n",
        "reg.fit(X,y)\n",
        "importance = pd.Series(data = reg.feature_importances_, index =X.columns)\n",
        "\n",
        "importance= importance.sort_values()\n",
        "\n",
        "importance.plot(kind = 'barh', color='green')\n",
        "plt.title('Features Importnace')\n",
        "plt.show()"
      ],
      "metadata": {
        "colab": {
          "base_uri": "https://localhost:8080/",
          "height": 281
        },
        "id": "9mcglUdgrvmO",
        "outputId": "d6ebf008-4223-403e-d7ec-35e6a040dffa"
      },
      "execution_count": null,
      "outputs": [
        {
          "output_type": "display_data",
          "data": {
            "text/plain": [
              "<Figure size 432x288 with 1 Axes>"
            ],
            "image/png": "[encoded data removed]"
          },
          "metadata": {
            "needs_background": "light"
          }
        }
      ]
    },
    {
      "cell_type": "markdown",
      "source": [
        "c) Which features contribute the most importance in your model according to scikit-learn \n",
        "function?  \n",
        "\n",
        "PAY 0 is the most important feature in my model.\n",
        "\n",
        "\n",
        "d) What is feature importance and how is it calculated?  (If you are not sure, refer to the Scikit-\n",
        "Learn.org documentation.) \n",
        "\n",
        "Feature importance is a method used to tell us which features are most predictive of the target variable. Feature importance is computed as the mean and standard deviation of accumulation of the impurity decrease within each tree.\n"
      ],
      "metadata": {
        "id": "6zqTDvvkki9l"
      }
    },
    {
      "cell_type": "markdown",
      "source": [
        "#Signing"
      ],
      "metadata": {
        "id": "Onn76SNGEq_P"
      }
    },
    {
      "cell_type": "markdown",
      "source": [
        "Name : Ananya Singh\n",
        "\n",
        "NetID : as133\n",
        "\n",
        "I hereby certify that I have read the University policy on Academic Integrity and that I am not in violation."
      ],
      "metadata": {
        "id": "foxgB5m_EsbJ"
      }
    }
  ]
}